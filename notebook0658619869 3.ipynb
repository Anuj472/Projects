{
 "cells": [
  {
   "cell_type": "code",
   "execution_count": 1,
   "metadata": {
    "_cell_guid": "b1076dfc-b9ad-4769-8c92-a6c4dae69d19",
    "_uuid": "8f2839f25d086af736a60e9eeb907d3b93b6e0e5",
    "execution": {
     "iopub.execute_input": "2023-05-27T10:46:59.530507Z",
     "iopub.status.busy": "2023-05-27T10:46:59.530020Z",
     "iopub.status.idle": "2023-05-27T10:47:08.716160Z",
     "shell.execute_reply": "2023-05-27T10:47:08.715147Z",
     "shell.execute_reply.started": "2023-05-27T10:46:59.530480Z"
    }
   },
   "outputs": [
    {
     "name": "stderr",
     "output_type": "stream",
     "text": [
      "/opt/conda/lib/python3.10/site-packages/tensorflow_io/python/ops/__init__.py:98: UserWarning: unable to load libtensorflow_io_plugins.so: unable to open file: libtensorflow_io_plugins.so, from paths: ['/opt/conda/lib/python3.10/site-packages/tensorflow_io/python/ops/libtensorflow_io_plugins.so']\n",
      "caused by: ['/opt/conda/lib/python3.10/site-packages/tensorflow_io/python/ops/libtensorflow_io_plugins.so: undefined symbol: _ZN3tsl6StatusC1EN10tensorflow5error4CodeESt17basic_string_viewIcSt11char_traitsIcEENS_14SourceLocationE']\n",
      "  warnings.warn(f\"unable to load libtensorflow_io_plugins.so: {e}\")\n",
      "/opt/conda/lib/python3.10/site-packages/tensorflow_io/python/ops/__init__.py:104: UserWarning: file system plugins are not loaded: unable to open file: libtensorflow_io.so, from paths: ['/opt/conda/lib/python3.10/site-packages/tensorflow_io/python/ops/libtensorflow_io.so']\n",
      "caused by: ['/opt/conda/lib/python3.10/site-packages/tensorflow_io/python/ops/libtensorflow_io.so: undefined symbol: _ZTVN10tensorflow13GcsFileSystemE']\n",
      "  warnings.warn(f\"file system plugins are not loaded: {e}\")\n"
     ]
    },
    {
     "data": {
      "text/plain": [
       "'2.12.0'"
      ]
     },
     "execution_count": 1,
     "metadata": {},
     "output_type": "execute_result"
    }
   ],
   "source": [
    "import tensorflow as tf\n",
    "tf.__version__ "
   ]
  },
  {
   "cell_type": "code",
   "execution_count": 2,
   "metadata": {
    "execution": {
     "iopub.execute_input": "2023-05-27T10:47:08.719177Z",
     "iopub.status.busy": "2023-05-27T10:47:08.718360Z",
     "iopub.status.idle": "2023-05-27T10:47:08.729318Z",
     "shell.execute_reply": "2023-05-27T10:47:08.728340Z",
     "shell.execute_reply.started": "2023-05-27T10:47:08.719140Z"
    }
   },
   "outputs": [],
   "source": [
    "# Import The Libraries \n",
    "from tensorflow.keras.layers import Input, Lambda, Dense, Flatten\n",
    "from tensorflow.keras.models import Model\n",
    "from tensorflow.keras.applications.resnet50 import ResNet50, preprocess_input\n",
    "from tensorflow.keras.preprocessing import image\n",
    "from tensorflow.keras.preprocessing.image import ImageDataGenerator, load_img\n",
    "from tensorflow.keras.models import Sequential\n",
    "\n",
    "import numpy as np\n",
    "from glob import glob\n",
    "import matplotlib.pyplot as plt"
   ]
  },
  {
   "cell_type": "code",
   "execution_count": 3,
   "metadata": {
    "execution": {
     "iopub.execute_input": "2023-05-27T10:47:08.731987Z",
     "iopub.status.busy": "2023-05-27T10:47:08.731243Z",
     "iopub.status.idle": "2023-05-27T10:47:08.737133Z",
     "shell.execute_reply": "2023-05-27T10:47:08.736124Z",
     "shell.execute_reply.started": "2023-05-27T10:47:08.731952Z"
    }
   },
   "outputs": [],
   "source": [
    "# Paths\n",
    "train_Path = '/kaggle/input/train/train/train'\n",
    "test_Path = '/kaggle/input/train/test/test'\n",
    "val_set = '/kaggle/input/train/val/val'"
   ]
  },
  {
   "cell_type": "code",
   "execution_count": 4,
   "metadata": {
    "execution": {
     "iopub.execute_input": "2023-05-27T10:47:08.742377Z",
     "iopub.status.busy": "2023-05-27T10:47:08.741654Z",
     "iopub.status.idle": "2023-05-27T10:47:08.747284Z",
     "shell.execute_reply": "2023-05-27T10:47:08.746262Z",
     "shell.execute_reply.started": "2023-05-27T10:47:08.742314Z"
    }
   },
   "outputs": [],
   "source": [
    "# Set Resize variable\n",
    "IMAGE_SIZE = [224, 224] \n",
    "# This is my desired image size... \n",
    "#and also ResNet50 accepts image of 224*224."
   ]
  },
  {
   "cell_type": "code",
   "execution_count": 5,
   "metadata": {
    "execution": {
     "iopub.execute_input": "2023-05-27T10:47:08.749391Z",
     "iopub.status.busy": "2023-05-27T10:47:08.748821Z",
     "iopub.status.idle": "2023-05-27T10:47:08.757692Z",
     "shell.execute_reply": "2023-05-27T10:47:08.756644Z",
     "shell.execute_reply.started": "2023-05-27T10:47:08.749358Z"
    }
   },
   "outputs": [],
   "source": [
    "from tensorflow.keras.models import Sequential\n",
    "from tensorflow.keras.layers import Conv2D, MaxPooling2D, Dense, Flatten, Dropout"
   ]
  },
  {
   "cell_type": "code",
   "execution_count": 6,
   "metadata": {
    "execution": {
     "iopub.execute_input": "2023-05-27T10:47:08.761396Z",
     "iopub.status.busy": "2023-05-27T10:47:08.761087Z",
     "iopub.status.idle": "2023-05-27T10:47:12.017109Z",
     "shell.execute_reply": "2023-05-27T10:47:12.016143Z",
     "shell.execute_reply.started": "2023-05-27T10:47:08.761371Z"
    }
   },
   "outputs": [],
   "source": [
    "model = Sequential()"
   ]
  },
  {
   "cell_type": "code",
   "execution_count": 7,
   "metadata": {
    "execution": {
     "iopub.execute_input": "2023-05-27T10:47:12.019169Z",
     "iopub.status.busy": "2023-05-27T10:47:12.018761Z",
     "iopub.status.idle": "2023-05-27T10:47:12.422002Z",
     "shell.execute_reply": "2023-05-27T10:47:12.421038Z",
     "shell.execute_reply.started": "2023-05-27T10:47:12.019135Z"
    }
   },
   "outputs": [],
   "source": [
    "model.add(Conv2D(16, (3,3), 1, activation='relu', input_shape=(224,224,3)))\n",
    "model.add(MaxPooling2D())\n",
    "model.add(Conv2D(32, (3,3), 1, activation='relu'))\n",
    "model.add(Conv2D(32, (3,3), 1, activation='relu'))\n",
    "model.add(MaxPooling2D())\n",
    "model.add(Dropout(0.3, input_shape=(224,224,64)))\n",
    "model.add(Conv2D(64, (3,3), 1, activation='relu'))\n",
    "model.add(Conv2D(64, (3,3), 1, activation='relu'))\n",
    "model.add(MaxPooling2D())\n",
    "model.add(Dropout(0.2, input_shape=(224,224,128)))\n",
    "model.add(Conv2D(128, (3,3), 1, activation='relu'))\n",
    "model.add(Conv2D(128, (3,3), 1, activation='relu'))\n",
    "model.add(MaxPooling2D())\n",
    "model.add(Flatten())\n",
    "model.add(Dense(224, activation='relu'))\n",
    "model.add(Dense(10, activation='sigmoid'))"
   ]
  },
  {
   "cell_type": "code",
   "execution_count": 8,
   "metadata": {
    "execution": {
     "iopub.execute_input": "2023-05-27T10:47:12.424888Z",
     "iopub.status.busy": "2023-05-27T10:47:12.424186Z",
     "iopub.status.idle": "2023-05-27T10:47:12.468394Z",
     "shell.execute_reply": "2023-05-27T10:47:12.467570Z",
     "shell.execute_reply.started": "2023-05-27T10:47:12.424852Z"
    }
   },
   "outputs": [
    {
     "name": "stdout",
     "output_type": "stream",
     "text": [
      "Model: \"sequential\"\n",
      "_________________________________________________________________\n",
      " Layer (type)                Output Shape              Param #   \n",
      "=================================================================\n",
      " conv2d (Conv2D)             (None, 222, 222, 16)      448       \n",
      "                                                                 \n",
      " max_pooling2d (MaxPooling2D  (None, 111, 111, 16)     0         \n",
      " )                                                               \n",
      "                                                                 \n",
      " conv2d_1 (Conv2D)           (None, 109, 109, 32)      4640      \n",
      "                                                                 \n",
      " conv2d_2 (Conv2D)           (None, 107, 107, 32)      9248      \n",
      "                                                                 \n",
      " max_pooling2d_1 (MaxPooling  (None, 53, 53, 32)       0         \n",
      " 2D)                                                             \n",
      "                                                                 \n",
      " dropout (Dropout)           (None, 53, 53, 32)        0         \n",
      "                                                                 \n",
      " conv2d_3 (Conv2D)           (None, 51, 51, 64)        18496     \n",
      "                                                                 \n",
      " conv2d_4 (Conv2D)           (None, 49, 49, 64)        36928     \n",
      "                                                                 \n",
      " max_pooling2d_2 (MaxPooling  (None, 24, 24, 64)       0         \n",
      " 2D)                                                             \n",
      "                                                                 \n",
      " dropout_1 (Dropout)         (None, 24, 24, 64)        0         \n",
      "                                                                 \n",
      " conv2d_5 (Conv2D)           (None, 22, 22, 128)       73856     \n",
      "                                                                 \n",
      " conv2d_6 (Conv2D)           (None, 20, 20, 128)       147584    \n",
      "                                                                 \n",
      " max_pooling2d_3 (MaxPooling  (None, 10, 10, 128)      0         \n",
      " 2D)                                                             \n",
      "                                                                 \n",
      " flatten (Flatten)           (None, 12800)             0         \n",
      "                                                                 \n",
      " dense (Dense)               (None, 224)               2867424   \n",
      "                                                                 \n",
      " dense_1 (Dense)             (None, 10)                2250      \n",
      "                                                                 \n",
      "=================================================================\n",
      "Total params: 3,160,874\n",
      "Trainable params: 3,160,874\n",
      "Non-trainable params: 0\n",
      "_________________________________________________________________\n"
     ]
    }
   ],
   "source": [
    "model.summary()"
   ]
  },
  {
   "cell_type": "code",
   "execution_count": 9,
   "metadata": {
    "execution": {
     "iopub.execute_input": "2023-05-27T10:47:12.469718Z",
     "iopub.status.busy": "2023-05-27T10:47:12.469397Z",
     "iopub.status.idle": "2023-05-27T10:47:12.474203Z",
     "shell.execute_reply": "2023-05-27T10:47:12.473327Z",
     "shell.execute_reply.started": "2023-05-27T10:47:12.469688Z"
    }
   },
   "outputs": [],
   "source": [
    "logdir='logs'"
   ]
  },
  {
   "cell_type": "code",
   "execution_count": 10,
   "metadata": {
    "execution": {
     "iopub.execute_input": "2023-05-27T10:47:12.478685Z",
     "iopub.status.busy": "2023-05-27T10:47:12.478198Z",
     "iopub.status.idle": "2023-05-27T10:47:12.489994Z",
     "shell.execute_reply": "2023-05-27T10:47:12.489305Z",
     "shell.execute_reply.started": "2023-05-27T10:47:12.478615Z"
    }
   },
   "outputs": [],
   "source": [
    "tensorboard_callback = tf.keras.callbacks.TensorBoard(log_dir=logdir)"
   ]
  },
  {
   "cell_type": "code",
   "execution_count": 11,
   "metadata": {
    "execution": {
     "iopub.execute_input": "2023-05-27T10:47:12.491640Z",
     "iopub.status.busy": "2023-05-27T10:47:12.491045Z",
     "iopub.status.idle": "2023-05-27T10:47:12.499840Z",
     "shell.execute_reply": "2023-05-27T10:47:12.499046Z",
     "shell.execute_reply.started": "2023-05-27T10:47:12.491609Z"
    }
   },
   "outputs": [],
   "source": [
    "train_datagen = ImageDataGenerator(rescale = 1./255,\n",
    "                                   shear_range = 0.2,\n",
    "                                   zoom_range = 0.2,\n",
    "                                   horizontal_flip = True)\n",
    "\n",
    "test_datagen = ImageDataGenerator(rescale = 1./255)"
   ]
  },
  {
   "cell_type": "code",
   "execution_count": 12,
   "metadata": {
    "execution": {
     "iopub.execute_input": "2023-05-27T10:47:12.501393Z",
     "iopub.status.busy": "2023-05-27T10:47:12.501011Z",
     "iopub.status.idle": "2023-05-27T10:47:18.668725Z",
     "shell.execute_reply": "2023-05-27T10:47:18.667699Z",
     "shell.execute_reply.started": "2023-05-27T10:47:12.501363Z"
    }
   },
   "outputs": [
    {
     "name": "stdout",
     "output_type": "stream",
     "text": [
      "Found 8713 images belonging to 10 classes.\n"
     ]
    }
   ],
   "source": [
    "training_set = train_datagen.flow_from_directory(train_Path,\n",
    "                                                 target_size = (224, 224),\n",
    "                                                 batch_size = 32,\n",
    "                                                 class_mode = 'categorical')"
   ]
  },
  {
   "cell_type": "code",
   "execution_count": 13,
   "metadata": {
    "execution": {
     "iopub.execute_input": "2023-05-27T10:47:18.670734Z",
     "iopub.status.busy": "2023-05-27T10:47:18.670380Z",
     "iopub.status.idle": "2023-05-27T10:47:19.795316Z",
     "shell.execute_reply": "2023-05-27T10:47:19.794392Z",
     "shell.execute_reply.started": "2023-05-27T10:47:18.670701Z"
    }
   },
   "outputs": [
    {
     "name": "stdout",
     "output_type": "stream",
     "text": [
      "Found 2905 images belonging to 10 classes.\n"
     ]
    }
   ],
   "source": [
    "test_set = test_datagen.flow_from_directory(val_set,\n",
    "                                            target_size = (224, 224),\n",
    "                                            batch_size = 32,\n",
    "                                            class_mode = 'categorical')"
   ]
  },
  {
   "cell_type": "code",
   "execution_count": 14,
   "metadata": {
    "execution": {
     "iopub.execute_input": "2023-05-27T10:47:19.797839Z",
     "iopub.status.busy": "2023-05-27T10:47:19.797117Z",
     "iopub.status.idle": "2023-05-27T10:47:19.820277Z",
     "shell.execute_reply": "2023-05-27T10:47:19.819383Z",
     "shell.execute_reply.started": "2023-05-27T10:47:19.797803Z"
    }
   },
   "outputs": [],
   "source": [
    "model.compile(\n",
    "  loss='categorical_crossentropy',\n",
    "  optimizer='adam',\n",
    "  metrics=['accuracy']\n",
    ")"
   ]
  },
  {
   "cell_type": "code",
   "execution_count": 15,
   "metadata": {
    "execution": {
     "iopub.execute_input": "2023-05-27T10:47:19.822150Z",
     "iopub.status.busy": "2023-05-27T10:47:19.821766Z",
     "iopub.status.idle": "2023-05-27T13:39:50.226644Z",
     "shell.execute_reply": "2023-05-27T13:39:50.225657Z",
     "shell.execute_reply.started": "2023-05-27T10:47:19.822118Z"
    }
   },
   "outputs": [
    {
     "name": "stderr",
     "output_type": "stream",
     "text": [
      "/tmp/ipykernel_28/6459542.py:1: UserWarning: `Model.fit_generator` is deprecated and will be removed in a future version. Please use `Model.fit`, which supports generators.\n",
      "  hist = model.fit_generator(\n"
     ]
    },
    {
     "name": "stdout",
     "output_type": "stream",
     "text": [
      "Epoch 1/80\n"
     ]
    },
    {
     "name": "stderr",
     "output_type": "stream",
     "text": [
      "2023-05-27 10:47:21.848744: E tensorflow/core/grappler/optimizers/meta_optimizer.cc:954] layout failed: INVALID_ARGUMENT: Size of values 0 does not match size of permutation 4 @ fanin shape insequential/dropout/dropout/SelectV2-2-TransposeNHWCToNCHW-LayoutOptimizer\n"
     ]
    },
    {
     "name": "stdout",
     "output_type": "stream",
     "text": [
      "273/273 [==============================] - 178s 607ms/step - loss: 1.5919 - accuracy: 0.4474 - val_loss: 1.2468 - val_accuracy: 0.5721\n",
      "Epoch 2/80\n",
      "273/273 [==============================] - 116s 424ms/step - loss: 1.0884 - accuracy: 0.6304 - val_loss: 0.9635 - val_accuracy: 0.6719\n",
      "Epoch 3/80\n",
      "273/273 [==============================] - 114s 418ms/step - loss: 0.8475 - accuracy: 0.7140 - val_loss: 0.8435 - val_accuracy: 0.7133\n",
      "Epoch 4/80\n",
      "273/273 [==============================] - 119s 434ms/step - loss: 0.6475 - accuracy: 0.7755 - val_loss: 0.7425 - val_accuracy: 0.7552\n",
      "Epoch 5/80\n",
      "273/273 [==============================] - 116s 424ms/step - loss: 0.5218 - accuracy: 0.8215 - val_loss: 0.4874 - val_accuracy: 0.8417\n",
      "Epoch 6/80\n",
      "273/273 [==============================] - 118s 431ms/step - loss: 0.4394 - accuracy: 0.8451 - val_loss: 0.6180 - val_accuracy: 0.8000\n",
      "Epoch 7/80\n",
      "273/273 [==============================] - 115s 422ms/step - loss: 0.3685 - accuracy: 0.8692 - val_loss: 0.4844 - val_accuracy: 0.8465\n",
      "Epoch 8/80\n",
      "273/273 [==============================] - 116s 426ms/step - loss: 0.3111 - accuracy: 0.8907 - val_loss: 0.4157 - val_accuracy: 0.8716\n",
      "Epoch 9/80\n",
      "273/273 [==============================] - 116s 425ms/step - loss: 0.2818 - accuracy: 0.9014 - val_loss: 0.4317 - val_accuracy: 0.8599\n",
      "Epoch 10/80\n",
      "273/273 [==============================] - 117s 427ms/step - loss: 0.2596 - accuracy: 0.9132 - val_loss: 0.5794 - val_accuracy: 0.8423\n",
      "Epoch 11/80\n",
      "273/273 [==============================] - 115s 422ms/step - loss: 0.1876 - accuracy: 0.9326 - val_loss: 0.3452 - val_accuracy: 0.9146\n",
      "Epoch 13/80\n",
      "273/273 [==============================] - 116s 424ms/step - loss: 0.1930 - accuracy: 0.9324 - val_loss: 0.3188 - val_accuracy: 0.9133\n",
      "Epoch 14/80\n",
      "273/273 [==============================] - 115s 421ms/step - loss: 0.1738 - accuracy: 0.9435 - val_loss: 0.4438 - val_accuracy: 0.8812\n",
      "Epoch 15/80\n",
      "273/273 [==============================] - 114s 418ms/step - loss: 0.1738 - accuracy: 0.9430 - val_loss: 0.3113 - val_accuracy: 0.9198\n",
      "Epoch 16/80\n",
      "273/273 [==============================] - 116s 424ms/step - loss: 0.1366 - accuracy: 0.9541 - val_loss: 0.3915 - val_accuracy: 0.8998\n",
      "Epoch 17/80\n",
      "273/273 [==============================] - 116s 425ms/step - loss: 0.1374 - accuracy: 0.9524 - val_loss: 0.3564 - val_accuracy: 0.9015\n",
      "Epoch 18/80\n",
      "273/273 [==============================] - 118s 432ms/step - loss: 0.1529 - accuracy: 0.9484 - val_loss: 0.3436 - val_accuracy: 0.9112\n",
      "Epoch 19/80\n",
      "273/273 [==============================] - 116s 424ms/step - loss: 0.1124 - accuracy: 0.9626 - val_loss: 0.4751 - val_accuracy: 0.8985\n",
      "Epoch 20/80\n",
      "273/273 [==============================] - 117s 428ms/step - loss: 0.1154 - accuracy: 0.9614 - val_loss: 0.7464 - val_accuracy: 0.8145\n",
      "Epoch 21/80\n",
      "273/273 [==============================] - 118s 432ms/step - loss: 0.1300 - accuracy: 0.9571 - val_loss: 0.4075 - val_accuracy: 0.8974\n",
      "Epoch 22/80\n",
      "273/273 [==============================] - 116s 425ms/step - loss: 0.1209 - accuracy: 0.9583 - val_loss: 0.4045 - val_accuracy: 0.8926\n",
      "Epoch 23/80\n",
      "273/273 [==============================] - 117s 427ms/step - loss: 0.1111 - accuracy: 0.9622 - val_loss: 0.3032 - val_accuracy: 0.9253\n",
      "Epoch 24/80\n",
      "273/273 [==============================] - 117s 430ms/step - loss: 0.1009 - accuracy: 0.9675 - val_loss: 0.2791 - val_accuracy: 0.9298\n",
      "Epoch 25/80\n",
      "273/273 [==============================] - 116s 426ms/step - loss: 0.0749 - accuracy: 0.9757 - val_loss: 0.4941 - val_accuracy: 0.8809\n",
      "Epoch 26/80\n",
      "273/273 [==============================] - 116s 424ms/step - loss: 0.0959 - accuracy: 0.9679 - val_loss: 0.3722 - val_accuracy: 0.9143\n",
      "Epoch 27/80\n",
      "273/273 [==============================] - 116s 426ms/step - loss: 0.0891 - accuracy: 0.9721 - val_loss: 0.3629 - val_accuracy: 0.9346\n",
      "Epoch 28/80\n",
      "273/273 [==============================] - 119s 435ms/step - loss: 0.0860 - accuracy: 0.9739 - val_loss: 0.2508 - val_accuracy: 0.9539\n",
      "Epoch 29/80\n",
      "273/273 [==============================] - 117s 430ms/step - loss: 0.1057 - accuracy: 0.9655 - val_loss: 0.2687 - val_accuracy: 0.9398\n",
      "Epoch 30/80\n",
      "273/273 [==============================] - 116s 426ms/step - loss: 0.0909 - accuracy: 0.9694 - val_loss: 0.2268 - val_accuracy: 0.9432\n",
      "Epoch 31/80\n",
      "273/273 [==============================] - 115s 420ms/step - loss: 0.0712 - accuracy: 0.9754 - val_loss: 0.4447 - val_accuracy: 0.9026\n",
      "Epoch 32/80\n",
      "273/273 [==============================] - 114s 419ms/step - loss: 0.1061 - accuracy: 0.9642 - val_loss: 0.3546 - val_accuracy: 0.9281\n",
      "Epoch 33/80\n",
      "273/273 [==============================] - 115s 421ms/step - loss: 0.0813 - accuracy: 0.9708 - val_loss: 0.3417 - val_accuracy: 0.9122\n",
      "Epoch 34/80\n",
      "273/273 [==============================] - 115s 420ms/step - loss: 0.0661 - accuracy: 0.9765 - val_loss: 0.3563 - val_accuracy: 0.9315\n",
      "Epoch 35/80\n",
      "273/273 [==============================] - 116s 424ms/step - loss: 0.0624 - accuracy: 0.9789 - val_loss: 0.3662 - val_accuracy: 0.9284\n",
      "Epoch 36/80\n",
      "273/273 [==============================] - 119s 437ms/step - loss: 0.0604 - accuracy: 0.9806 - val_loss: 0.2976 - val_accuracy: 0.9408\n",
      "Epoch 37/80\n",
      "273/273 [==============================] - 121s 442ms/step - loss: 0.0919 - accuracy: 0.9712 - val_loss: 0.2759 - val_accuracy: 0.9442\n",
      "Epoch 38/80\n",
      "273/273 [==============================] - 115s 420ms/step - loss: 0.0548 - accuracy: 0.9813 - val_loss: 0.3505 - val_accuracy: 0.9298\n",
      "Epoch 39/80\n",
      "273/273 [==============================] - 118s 432ms/step - loss: 0.0905 - accuracy: 0.9692 - val_loss: 0.3655 - val_accuracy: 0.9315\n",
      "Epoch 40/80\n",
      "273/273 [==============================] - 116s 425ms/step - loss: 0.0583 - accuracy: 0.9792 - val_loss: 0.3333 - val_accuracy: 0.9522\n",
      "Epoch 41/80\n",
      "273/273 [==============================] - 113s 415ms/step - loss: 0.0503 - accuracy: 0.9835 - val_loss: 0.3158 - val_accuracy: 0.9525\n",
      "Epoch 42/80\n",
      "273/273 [==============================] - 115s 420ms/step - loss: 0.0799 - accuracy: 0.9733 - val_loss: 0.3323 - val_accuracy: 0.9380\n",
      "Epoch 43/80\n",
      "273/273 [==============================] - 117s 429ms/step - loss: 0.0494 - accuracy: 0.9845 - val_loss: 0.2623 - val_accuracy: 0.9594\n",
      "Epoch 44/80\n",
      "273/273 [==============================] - 117s 427ms/step - loss: 0.0693 - accuracy: 0.9761 - val_loss: 0.3360 - val_accuracy: 0.9394\n",
      "Epoch 45/80\n",
      "273/273 [==============================] - 117s 428ms/step - loss: 0.0865 - accuracy: 0.9731 - val_loss: 0.3255 - val_accuracy: 0.9343\n",
      "Epoch 46/80\n",
      "273/273 [==============================] - 116s 425ms/step - loss: 0.0699 - accuracy: 0.9770 - val_loss: 0.3934 - val_accuracy: 0.9243\n",
      "Epoch 47/80\n",
      "273/273 [==============================] - 116s 425ms/step - loss: 0.0647 - accuracy: 0.9803 - val_loss: 0.3166 - val_accuracy: 0.9501\n",
      "Epoch 48/80\n",
      "273/273 [==============================] - 115s 420ms/step - loss: 0.0622 - accuracy: 0.9788 - val_loss: 0.3140 - val_accuracy: 0.9449\n",
      "Epoch 49/80\n",
      "273/273 [==============================] - 113s 413ms/step - loss: 0.0495 - accuracy: 0.9847 - val_loss: 0.3954 - val_accuracy: 0.9243\n",
      "Epoch 51/80\n",
      "273/273 [==============================] - 114s 417ms/step - loss: 0.0603 - accuracy: 0.9798 - val_loss: 0.3496 - val_accuracy: 0.9408\n",
      "Epoch 52/80\n",
      "273/273 [==============================] - 114s 417ms/step - loss: 0.0749 - accuracy: 0.9756 - val_loss: 0.3447 - val_accuracy: 0.9356\n",
      "Epoch 53/80\n",
      "273/273 [==============================] - 114s 417ms/step - loss: 0.0597 - accuracy: 0.9798 - val_loss: 0.3084 - val_accuracy: 0.9408\n",
      "Epoch 54/80\n",
      "273/273 [==============================] - 113s 415ms/step - loss: 0.0462 - accuracy: 0.9855 - val_loss: 0.3962 - val_accuracy: 0.9315\n",
      "Epoch 55/80\n",
      "273/273 [==============================] - 114s 419ms/step - loss: 0.0528 - accuracy: 0.9823 - val_loss: 0.3710 - val_accuracy: 0.9408\n",
      "Epoch 56/80\n",
      "273/273 [==============================] - 112s 411ms/step - loss: 0.0501 - accuracy: 0.9834 - val_loss: 0.2699 - val_accuracy: 0.9429\n",
      "Epoch 57/80\n",
      "273/273 [==============================] - 114s 416ms/step - loss: 0.0586 - accuracy: 0.9809 - val_loss: 0.4571 - val_accuracy: 0.9167\n",
      "Epoch 58/80\n",
      "273/273 [==============================] - 114s 417ms/step - loss: 0.0512 - accuracy: 0.9831 - val_loss: 0.6494 - val_accuracy: 0.8792\n",
      "Epoch 59/80\n",
      "273/273 [==============================] - 116s 424ms/step - loss: 0.0448 - accuracy: 0.9852 - val_loss: 0.3501 - val_accuracy: 0.9449\n",
      "Epoch 60/80\n",
      "273/273 [==============================] - 113s 416ms/step - loss: 0.0514 - accuracy: 0.9850 - val_loss: 0.4169 - val_accuracy: 0.9470\n",
      "Epoch 61/80\n",
      "273/273 [==============================] - 115s 421ms/step - loss: 0.0596 - accuracy: 0.9806 - val_loss: 0.2895 - val_accuracy: 0.9621\n",
      "Epoch 62/80\n",
      "273/273 [==============================] - 114s 417ms/step - loss: 0.0700 - accuracy: 0.9775 - val_loss: 0.4860 - val_accuracy: 0.9146\n",
      "Epoch 63/80\n",
      "273/273 [==============================] - 114s 418ms/step - loss: 0.0435 - accuracy: 0.9857 - val_loss: 0.4006 - val_accuracy: 0.9429\n",
      "Epoch 64/80\n",
      "273/273 [==============================] - 113s 412ms/step - loss: 0.0417 - accuracy: 0.9863 - val_loss: 0.4232 - val_accuracy: 0.9494\n",
      "Epoch 65/80\n",
      "273/273 [==============================] - 113s 412ms/step - loss: 0.0384 - accuracy: 0.9874 - val_loss: 0.4059 - val_accuracy: 0.9384\n",
      "Epoch 66/80\n",
      "273/273 [==============================] - 113s 415ms/step - loss: 0.0509 - accuracy: 0.9832 - val_loss: 0.4408 - val_accuracy: 0.9329\n",
      "Epoch 67/80\n",
      "273/273 [==============================] - 113s 413ms/step - loss: 0.0419 - accuracy: 0.9878 - val_loss: 0.3231 - val_accuracy: 0.9346\n",
      "Epoch 68/80\n",
      "273/273 [==============================] - 112s 410ms/step - loss: 0.0488 - accuracy: 0.9840 - val_loss: 0.3307 - val_accuracy: 0.9487\n",
      "Epoch 69/80\n",
      "273/273 [==============================] - 114s 417ms/step - loss: 0.0438 - accuracy: 0.9862 - val_loss: 0.5193 - val_accuracy: 0.9150\n",
      "Epoch 70/80\n",
      "273/273 [==============================] - 114s 416ms/step - loss: 0.0534 - accuracy: 0.9822 - val_loss: 0.4605 - val_accuracy: 0.9284\n",
      "Epoch 71/80\n",
      "273/273 [==============================] - 114s 418ms/step - loss: 0.0816 - accuracy: 0.9753 - val_loss: 0.2937 - val_accuracy: 0.9552\n",
      "Epoch 72/80\n",
      "273/273 [==============================] - 112s 411ms/step - loss: 0.0305 - accuracy: 0.9907 - val_loss: 0.2993 - val_accuracy: 0.9601\n",
      "Epoch 73/80\n",
      "273/273 [==============================] - 113s 413ms/step - loss: 0.0260 - accuracy: 0.9916 - val_loss: 0.4057 - val_accuracy: 0.9528\n",
      "Epoch 74/80\n",
      "273/273 [==============================] - 113s 415ms/step - loss: 0.0417 - accuracy: 0.9877 - val_loss: 0.2967 - val_accuracy: 0.9632\n",
      "Epoch 75/80\n",
      "273/273 [==============================] - 112s 410ms/step - loss: 0.0380 - accuracy: 0.9890 - val_loss: 0.5566 - val_accuracy: 0.9091\n",
      "Epoch 76/80\n",
      "273/273 [==============================] - 112s 410ms/step - loss: 0.0652 - accuracy: 0.9811 - val_loss: 0.4531 - val_accuracy: 0.9177\n",
      "Epoch 77/80\n",
      "273/273 [==============================] - 113s 415ms/step - loss: 0.0231 - accuracy: 0.9916 - val_loss: 0.4301 - val_accuracy: 0.9408\n",
      "Epoch 78/80\n",
      "273/273 [==============================] - 114s 419ms/step - loss: 0.0466 - accuracy: 0.9861 - val_loss: 0.3853 - val_accuracy: 0.9435\n",
      "Epoch 79/80\n",
      "273/273 [==============================] - 113s 414ms/step - loss: 0.0397 - accuracy: 0.9874 - val_loss: 0.3166 - val_accuracy: 0.9587\n",
      "Epoch 80/80\n",
      "273/273 [==============================] - 114s 416ms/step - loss: 0.0465 - accuracy: 0.9855 - val_loss: 0.4366 - val_accuracy: 0.9418\n"
     ]
    }
   ],
   "source": [
    "hist = model.fit_generator(\n",
    "  training_set,\n",
    "  validation_data=test_set,\n",
    "  epochs=80,\n",
    "  steps_per_epoch=len(training_set),\n",
    "  validation_steps=len(test_set)\n",
    ")"
   ]
  },
  {
   "cell_type": "code",
   "execution_count": 19,
   "metadata": {
    "execution": {
     "iopub.execute_input": "2023-05-27T13:39:51.229754Z",
     "iopub.status.busy": "2023-05-27T13:39:51.229386Z",
     "iopub.status.idle": "2023-05-27T13:39:51.524037Z",
     "shell.execute_reply": "2023-05-27T13:39:51.522988Z",
     "shell.execute_reply.started": "2023-05-27T13:39:51.229722Z"
    }
   },
   "outputs": [
    {
     "data": {
      "image/png": "[encoded data removed]",
      "text/plain": [
       "<Figure size 640x480 with 1 Axes>"
      ]
     },
     "metadata": {},
     "output_type": "display_data"
    }
   ],
   "source": [
    "fig = plt.figure()\n",
    "plt.plot(hist.history['loss'], color='teal', label='loss')\n",
    "plt.plot(hist.history['val_loss'], color='orange', label='val_loss')\n",
    "fig.suptitle('Loss', fontsize=20)\n",
    "plt.legend(loc=\"upper left\")\n",
    "plt.show()"
   ]
  },
  {
   "cell_type": "code",
   "execution_count": 17,
   "metadata": {
    "execution": {
     "iopub.execute_input": "2023-05-27T13:39:50.545329Z",
     "iopub.status.busy": "2023-05-27T13:39:50.543945Z",
     "iopub.status.idle": "2023-05-27T13:39:50.856931Z",
     "shell.execute_reply": "2023-05-27T13:39:50.856003Z",
     "shell.execute_reply.started": "2023-05-27T13:39:50.545295Z"
    }
   },
   "outputs": [
    {
     "data": {
      "image/png": "[encoded data removed]",
      "text/plain": [
       "<Figure size 640x480 with 1 Axes>"
      ]
     },
     "metadata": {},
     "output_type": "display_data"
    }
   ],
   "source": [
    "fig = plt.figure()\n",
    "plt.plot(hist.history['accuracy'], color='teal', label='accuracy')\n",
    "plt.plot(hist.history['val_accuracy'], color='orange', label='val_accuracy')\n",
    "fig.suptitle('Accuracy', fontsize=20)\n",
    "plt.legend(loc=\"upper left\")\n",
    "plt.show()"
   ]
  }
 ],
 "metadata": {
  "kernelspec": {
   "display_name": "Python 3 (ipykernel)",
   "language": "python",
   "name": "python3"
  },
  "language_info": {
   "codemirror_mode": {
    "name": "ipython",
    "version": 3
   },
   "file_extension": ".py",
   "mimetype": "text/x-python",
   "name": "python",
   "nbconvert_exporter": "python",
   "pygments_lexer": "ipython3",
   "version": "3.9.7"
  }
 },
 "nbformat": 4,
 "nbformat_minor": 4
}
